{
 "cells": [
  {
   "cell_type": "code",
   "execution_count": 1,
   "metadata": {},
   "outputs": [],
   "source": [
    "import numpy, random, math\n",
    "from scipy.optimize import minimize\n",
    "import matplotlib . pyplot as plt"
   ]
  },
  {
   "cell_type": "code",
   "execution_count": 2,
   "metadata": {},
   "outputs": [],
   "source": [
    "def kernel_linear(x,y):\n",
    "    return numpy.dot(x,y)"
   ]
  },
  {
   "cell_type": "code",
   "execution_count": 3,
   "metadata": {},
   "outputs": [],
   "source": [
    "def kernel_polynomial(p):\n",
    "    return lambda x, y:(numpy.dot(x,y) + 1) ** p "
   ]
  },
  {
   "cell_type": "code",
   "execution_count": 20,
   "metadata": {},
   "outputs": [],
   "source": [
    "def kernel_radial(sigma):\n",
    "    return lambda x, y: numpy.exp((-numpy.linalg.norm(x-y) ** 2) / (2*(sigma ** 2)))"
   ]
  },
  {
   "cell_type": "code",
   "execution_count": 5,
   "metadata": {},
   "outputs": [],
   "source": [
    "x = numpy.array([[1,2],[3,2],[3,4]])\n",
    "y = numpy.array([4,5,6])\n",
    "x2 = numpy.ones((10, 2))\n",
    "\n",
    "#numpy.dot(x[:,None],y[None])\n",
    "#numpy.einsum('i,j->ij',x,x)\n",
    "\n",
    "\n"
   ]
  },
  {
   "cell_type": "markdown",
   "metadata": {},
   "source": [
    "he\n"
   ]
  },
  {
   "cell_type": "code",
   "execution_count": 6,
   "metadata": {},
   "outputs": [
    {
     "data": {
      "application/javascript": [
       "Jupyter.keyboard_manager.edit_shortcuts.add_shortcut('cmd-shift-d', {\n",
       "    help: 'Duplicate current line',\n",
       "    help_index: 'zz',\n",
       "    handler: function (env) {\n",
       "        var cm = env.notebook.get_selected_cell().code_mirror;\n",
       "        // get a position of a current cursor in a current cell\n",
       "        var current_cursor = cm.doc.getCursor();\n",
       "\n",
       "        // read a content from a line where is the current cursor\n",
       "        var line_content = cm.doc.getLine(current_cursor.line);\n",
       "        cm.execCommand('goLineEnd');\n",
       "        cm.execCommand('newlineAndIndent');\n",
       "        cm.execCommand('indentLess');\n",
       "        cm.doc.replaceSelection(line_content);\n",
       "        cm.doc.setCursor(current_cursor.line + 1, current_cursor.ch);\n",
       "        return false;\n",
       "    }\n",
       "}\n",
       ");\n"
      ],
      "text/plain": [
       "<IPython.core.display.Javascript object>"
      ]
     },
     "metadata": {},
     "output_type": "display_data"
    }
   ],
   "source": [
    "%%javascript\n",
    "Jupyter.keyboard_manager.edit_shortcuts.add_shortcut('cmd-shift-d', {\n",
    "    help: 'Duplicate current line',\n",
    "    help_index: 'zz',\n",
    "    handler: function (env) {\n",
    "        var cm = env.notebook.get_selected_cell().code_mirror;\n",
    "        // get a position of a current cursor in a current cell\n",
    "        var current_cursor = cm.doc.getCursor();\n",
    "\n",
    "        // read a content from a line where is the current cursor\n",
    "        var line_content = cm.doc.getLine(current_cursor.line);\n",
    "        cm.execCommand('goLineEnd');\n",
    "        cm.execCommand('newlineAndIndent');\n",
    "        cm.execCommand('indentLess');\n",
    "        cm.doc.replaceSelection(line_content);\n",
    "        cm.doc.setCursor(current_cursor.line + 1, current_cursor.ch);\n",
    "        return false;\n",
    "    }\n",
    "}\n",
    ");"
   ]
  },
  {
   "cell_type": "code",
   "execution_count": 7,
   "metadata": {},
   "outputs": [
    {
     "data": {
      "text/plain": [
       "array([[ 2, -3],\n",
       "       [-3,  5]])"
      ]
     },
     "execution_count": 7,
     "metadata": {},
     "output_type": "execute_result"
    }
   ],
   "source": [
    "def generateP(t, x, kernel):\n",
    "    matrix = []\n",
    "    i = 0\n",
    "    for i in range(len(x)):\n",
    "        row = []\n",
    "        for j in range(len(x)):\n",
    "            row.append(t[i] * t[j] * kernel(x[i], x[j]))\n",
    "        matrix.append(row)\n",
    "    #print(matrix)\n",
    "    return numpy.array(matrix)\n",
    "    \n",
    "    \n",
    "    \n",
    "generateP(numpy.array([1, -1]), numpy.array([[1, 1], [1, 2]]), kernel_linear)"
   ]
  },
  {
   "cell_type": "code",
   "execution_count": 8,
   "metadata": {},
   "outputs": [],
   "source": [
    "alpha = numpy.ones((2, 1))\n",
    "\n",
    "def objective(t, x, kernel):\n",
    "    P = generateP(t, x, kernel)\n",
    "    return lambda alpha : 0.5 * numpy.sum(numpy.multiply(numpy.dot(alpha[:, None], alpha.T[None]), P)) - numpy.sum(alpha)\n",
    "#print(objective(t, x))"
   ]
  },
  {
   "cell_type": "code",
   "execution_count": 9,
   "metadata": {},
   "outputs": [],
   "source": [
    "\n",
    "def zerofun(t):\n",
    "    return lambda alpha : numpy.dot(t,alpha)"
   ]
  },
  {
   "cell_type": "markdown",
   "metadata": {},
   "source": [
    "Test data!"
   ]
  },
  {
   "cell_type": "code",
   "execution_count": 74,
   "metadata": {},
   "outputs": [
    {
     "name": "stdout",
     "output_type": "stream",
     "text": [
      "(65, 2)\n",
      "(65,)\n"
     ]
    }
   ],
   "source": [
    "numpy.random.seed(50)\n",
    "classA = numpy.concatenate((numpy.random.randn(10, 2) * 0.2 + [2, -1.5],\n",
    "                            numpy.random.randn(10, 2) * 0.2 + [-2, 0],\n",
    "                            numpy.random.randn(5, 2) * 0.5 + [0, 0],\n",
    "                           \n",
    "                           ))\n",
    "#classA = numpy.array([[0, 0], [1 ,0]])\n",
    "classB = numpy.random.randn(40, 2) * 0.2 + [0.0 , 0.2]\n",
    "#classB = numpy.array([[4, 0], [3 ,0]])\n",
    "inputs = numpy.concatenate(( classA , classB))\n",
    "targets = numpy.concatenate((numpy.ones(classA.shape[0]), -numpy.ones(classB.shape[0])))\n",
    "\n",
    "N = inputs.shape[0] # Number of rows (samples)\n",
    "permute=list(range(N))\n",
    "random.shuffle(permute)\n",
    "inputs = inputs[permute,:]\n",
    "targets = targets[permute]\n",
    "\n",
    "print(inputs.shape)\n",
    "print(targets.shape)\n"
   ]
  },
  {
   "cell_type": "markdown",
   "metadata": {},
   "source": [
    "Plot time!"
   ]
  },
  {
   "cell_type": "code",
   "execution_count": 75,
   "metadata": {},
   "outputs": [
    {
     "data": {
      "image/png": "[encoded data removed]",
      "text/plain": [
       "<Figure size 432x288 with 1 Axes>"
      ]
     },
     "metadata": {
      "needs_background": "light"
     },
     "output_type": "display_data"
    }
   ],
   "source": [
    "plt.plot([p[0] for p in classA],\n",
    "        [p[1] for p in classA],\n",
    "        'b.')\n",
    "\n",
    "plt.plot([p[0] for p in classB],\n",
    "        [p[1] for p in classB],\n",
    "        'r.')\n",
    "\n",
    "plt.axis('equal')\n",
    "plt.savefig('svmplot.pdf')\n",
    "plt.show()"
   ]
  },
  {
   "cell_type": "markdown",
   "metadata": {},
   "source": [
    "Create the model"
   ]
  },
  {
   "cell_type": "code",
   "execution_count": 96,
   "metadata": {},
   "outputs": [
    {
     "name": "stdout",
     "output_type": "stream",
     "text": [
      "True\n"
     ]
    }
   ],
   "source": [
    "\n",
    "t = targets\n",
    "x = inputs\n",
    "start = numpy.zeros(N)\n",
    "c = 1\n",
    "XC={'type':'eq', 'fun':zerofun(t)}\n",
    "B=[(0, c) for b in range(N)]\n",
    "\n",
    "kernel = kernel_radial(0.5)\n",
    "\n",
    "ret = minimize( objective(t, x, kernel) , start, bounds=B, constraints=XC )\n",
    "alpha = ret['x']\n",
    "non_zero = [i for i in range(len(alpha)) if abs(alpha[i]) > 10 ** -5]\n",
    "def bias(s, target_value, kernel):\n",
    "    sum_thing = [alpha[i] * t[i] * kernel(s, x[i]) for i in non_zero]\n",
    "    return numpy.sum(sum_thing) - target_value\n",
    "\n",
    "\n",
    "def indicator(x2,y2, kernel):     \n",
    "    sum_thing = [alpha[i]*t[i]*kernel([x2,y2], x[i])  for i in non_zero] \n",
    "    b = bias(x[non_zero[0]], t[non_zero[0]], kernel)\n",
    "    return numpy.sum(sum_thing) - b\n",
    "\n",
    "print(ret['success'])\n",
    "#print(ret)\n"
   ]
  },
  {
   "cell_type": "code",
   "execution_count": 97,
   "metadata": {},
   "outputs": [
    {
     "name": "stdout",
     "output_type": "stream",
     "text": [
      "[[0.49690306 0.49690306 0.49690306 ... 0.49690306 0.49690306 0.49690306]\n",
      " [0.49690306 0.49690306 0.49690306 ... 0.49690306 0.49690306 0.49690306]\n",
      " [0.49690306 0.49690306 0.49690306 ... 0.49690306 0.49690306 0.49690306]\n",
      " ...\n",
      " [0.49690306 0.49690306 0.49690306 ... 0.49690306 0.49690306 0.49690306]\n",
      " [0.49690306 0.49690306 0.49690306 ... 0.49690306 0.49690306 0.49690306]\n",
      " [0.49690306 0.49690306 0.49690306 ... 0.49690306 0.49690306 0.49690306]]\n"
     ]
    },
    {
     "data": {
      "text/plain": [
       "<matplotlib.contour.QuadContourSet at 0x12b81c828>"
      ]
     },
     "execution_count": 97,
     "metadata": {},
     "output_type": "execute_result"
    },
    {
     "data": {
      "image/png": "[encoded data removed]",
      "text/plain": [
       "<Figure size 432x288 with 1 Axes>"
      ]
     },
     "metadata": {
      "needs_background": "light"
     },
     "output_type": "display_data"
    }
   ],
   "source": [
    "xgrid=numpy.linspace(-5, 5)\n",
    "ygrid=numpy.linspace(-4, 4)\n",
    "grid=numpy.array([[indicator(x, y, kernel) for x in xgrid ] for y in ygrid])\n",
    "print(grid)\n",
    "plt.plot([p[0] for p in classB],\n",
    "        [p[1] for p in classB],\n",
    "        'r.')\n",
    "plt.plot([p[0] for p in classA],\n",
    "        [p[1] for p in classA],\n",
    "        'b.')\n",
    "\n",
    "plt.contour(xgrid , ygrid, grid, (-1.0, 0.0, 1.0),\n",
    "            colors=('red', 'black', 'blue'), \n",
    "            linewidths=(1, 3, 1))"
   ]
  },
  {
   "cell_type": "code",
   "execution_count": null,
   "metadata": {},
   "outputs": [],
   "source": []
  },
  {
   "cell_type": "code",
   "execution_count": null,
   "metadata": {},
   "outputs": [],
   "source": []
  }
 ],
 "metadata": {
  "kernelspec": {
   "display_name": "Python 3",
   "language": "python",
   "name": "python3"
  },
  "language_info": {
   "codemirror_mode": {
    "name": "ipython",
    "version": 3
   },
   "file_extension": ".py",
   "mimetype": "text/x-python",
   "name": "python",
   "nbconvert_exporter": "python",
   "pygments_lexer": "ipython3",
   "version": "3.7.0"
  }
 },
 "nbformat": 4,
 "nbformat_minor": 2
}
