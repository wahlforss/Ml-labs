{
 "cells": [
  {
   "cell_type": "code",
   "execution_count": 5,
   "metadata": {},
   "outputs": [],
   "source": [
    "import numpy, random, math\n",
    "from scipy . optimize import minimize\n",
    "import matplotlib . pyplot as plt"
   ]
  },
  {
   "cell_type": "code",
   "execution_count": 6,
   "metadata": {},
   "outputs": [],
   "source": [
    "def kernel_linear(x,y):\n",
    "    return numpy.dot(x,y)"
   ]
  },
  {
   "cell_type": "code",
   "execution_count": 7,
   "metadata": {},
   "outputs": [],
   "source": [
    "def kernel_polynomial(x,y, p):\n",
    "    return (numpy.dot(x,y) + 1) ** p "
   ]
  },
  {
   "cell_type": "code",
   "execution_count": 8,
   "metadata": {},
   "outputs": [],
   "source": [
    "def kernel_radial(x,y, sigma):\n",
    "    return numpy.exp((-numpy.linalg.norm(x-y) ** 2) / (2*(sigma ** 2)))"
   ]
  },
  {
   "cell_type": "code",
   "execution_count": 9,
   "metadata": {},
   "outputs": [
    {
     "data": {
      "text/plain": [
       "0.03421811831166603"
      ]
     },
     "execution_count": 9,
     "metadata": {},
     "output_type": "execute_result"
    }
   ],
   "source": [
    "x = numpy.array([1,2,3])\n",
    "y = numpy.array([4,5,6])\n",
    "\n",
    "#kernel_linear(x,y)\n",
    "kernel_polynomial(x,y,2)\n",
    "kernel_radial(x,y,2)"
   ]
  },
  {
   "cell_type": "markdown",
   "metadata": {},
   "source": [
    "he\n"
   ]
  },
  {
   "cell_type": "code",
   "execution_count": 4,
   "metadata": {},
   "outputs": [
    {
     "data": {
      "application/javascript": [
       "\n",
       "CodeMirror.keyMap.pcDefault[\"Cmd-Down\"] = function (cm) {\n",
       "\n",
       "    // get current cursor position\n",
       "    var current_cursor = cm.doc.getCursor();\n",
       "\n",
       "    // First go to end of line, to avoid the problem where if cursor was at start\n",
       "    // of indented text, goLineStartSmart would go to very beginning of line,\n",
       "    // and so we'd get unwanted tabs/spaces in the getRange function.\n",
       "    CodeMirror.commands.goLineEnd(cm);\n",
       "    // now we can safely call goLineStartSmart\n",
       "    CodeMirror.commands.goLineStartSmart(cm);\n",
       "    var start_cursor = cm.doc.getCursor();\n",
       "    var start = { 'line': start_cursor.line, 'ch': start_cursor.ch };\n",
       "\n",
       "    // go to the end of line\n",
       "    CodeMirror.commands.goLineEnd(cm);\n",
       "    var end_cursor = cm.doc.getCursor();\n",
       "    var end = { 'line': end_cursor.line, 'ch': end_cursor.ch };\n",
       "\n",
       "    // get content\n",
       "    var line_content = cm.doc.getRange(start, end);\n",
       "\n",
       "    // make a break for a new line\n",
       "    CodeMirror.commands.newlineAndIndent(cm);\n",
       "\n",
       "    // filled a content of the new line content from line above it\n",
       "    cm.doc.replaceSelection(line_content);\n",
       "\n",
       "    // restore position cursor on the new line\n",
       "    cm.doc.setCursor(current_cursor.line + 1, current_cursor.ch);\n",
       "};\n"
      ],
      "text/plain": [
       "<IPython.core.display.Javascript object>"
      ]
     },
     "metadata": {},
     "output_type": "display_data"
    }
   ],
   "source": [
    "%%javascript\n",
    "\n",
    "CodeMirror.keyMap.pcDefault[\"cmd-Down\"] = function (cm) {\n",
    "\n",
    "    // get current cursor position\n",
    "    var current_cursor = cm.doc.getCursor();\n",
    "\n",
    "    // First go to end of line, to avoid the problem where if cursor was at start\n",
    "    // of indented text, goLineStartSmart would go to very beginning of line,\n",
    "    // and so we'd get unwanted tabs/spaces in the getRange function.\n",
    "    CodeMirror.commands.goLineEnd(cm);\n",
    "    // now we can safely call goLineStartSmart\n",
    "    CodeMirror.commands.goLineStartSmart(cm);\n",
    "    var start_cursor = cm.doc.getCursor();\n",
    "    var start = { 'line': start_cursor.line, 'ch': start_cursor.ch };\n",
    "\n",
    "    // go to the end of line\n",
    "    CodeMirror.commands.goLineEnd(cm);\n",
    "    var end_cursor = cm.doc.getCursor();\n",
    "    var end = { 'line': end_cursor.line, 'ch': end_cursor.ch };\n",
    "\n",
    "    // get content\n",
    "    var line_content = cm.doc.getRange(start, end);\n",
    "\n",
    "    // make a break for a new line\n",
    "    CodeMirror.commands.newlineAndIndent(cm);\n",
    "\n",
    "    // filled a content of the new line content from line above it\n",
    "    cm.doc.replaceSelection(line_content);\n",
    "\n",
    "    // restore position cursor on the new line\n",
    "    cm.doc.setCursor(current_cursor.line + 1, current_cursor.ch);\n",
    "};"
   ]
  },
  {
   "cell_type": "code",
   "execution_count": 35,
   "metadata": {},
   "outputs": [
    {
     "data": {
      "text/plain": [
       "array([[ 2, -3],\n",
       "       [-3,  5]])"
      ]
     },
     "execution_count": 35,
     "metadata": {},
     "output_type": "execute_result"
    }
   ],
   "source": [
    "def generateP(t, x):\n",
    "    matrix = []\n",
    "    i = 0\n",
    "    for i in range(len(x)):\n",
    "        row = []\n",
    "        for j in range(len(x)):\n",
    "            row.append(t[i] * t[j] * kernel_linear(x[i], x[j]))\n",
    "        matrix.append(row)\n",
    "    #print(matrix)\n",
    "    return numpy.array(matrix)\n",
    "    \n",
    "    \n",
    "    \n",
    "generateP(numpy.array([1, -1]), numpy.array([[1, 1], [1, 2]]))"
   ]
  },
  {
   "cell_type": "code",
   "execution_count": 38,
   "metadata": {},
   "outputs": [
    {
     "name": "stdout",
     "output_type": "stream",
     "text": [
      "10.0\n"
     ]
    }
   ],
   "source": [
    "t = numpy.array([1, -1])\n",
    "x = numpy.array([[1, 1], [1, 2]])\n",
    "\n",
    "alpha = numpy.ones((2, 1))\n",
    "\n",
    "P = generateP(t, x)\n",
    "P = 5\n",
    "def objective(alpha):\n",
    "    #P = generateP(t, x)\n",
    "    \n",
    "    return 0.5 * numpy.sum(numpy.multiply(numpy.dot(alpha[:, None], alpha.T[None]), P)) - numpy.sum(alpha)\n",
    "print(objective(alpha))"
   ]
  },
  {
   "cell_type": "code",
   "execution_count": null,
   "metadata": {},
   "outputs": [],
   "source": [
    "hej"
   ]
  }
 ],
 "metadata": {
  "kernelspec": {
   "display_name": "Python 3",
   "language": "python",
   "name": "python3"
  },
  "language_info": {
   "codemirror_mode": {
    "name": "ipython",
    "version": 3
   },
   "file_extension": ".py",
   "mimetype": "text/x-python",
   "name": "python",
   "nbconvert_exporter": "python",
   "pygments_lexer": "ipython3",
   "version": "3.7.1"
  }
 },
 "nbformat": 4,
 "nbformat_minor": 2
}
