{
 "cells": [
  {
   "cell_type": "code",
   "execution_count": 1,
   "metadata": {},
   "outputs": [],
   "source": [
    "import monkdata as m\n",
    "from dtree import entropy\n",
    "from dtree import averageGain\n",
    "import dtree as d"
   ]
  },
  {
   "cell_type": "code",
   "execution_count": 2,
   "metadata": {},
   "outputs": [
    {
     "name": "stdout",
     "output_type": "stream",
     "text": [
      "1.0 monk1\n",
      "0.957117428264771 monk2\n",
      "0.9998061328047111 monk3\n"
     ]
    }
   ],
   "source": [
    "print(entropy(m.monk1), 'monk1')\n",
    "print(entropy(m.monk2), 'monk2')\n",
    "print(entropy(m.monk3), 'monk3')"
   ]
  },
  {
   "cell_type": "code",
   "execution_count": 3,
   "metadata": {},
   "outputs": [
    {
     "name": "stdout",
     "output_type": "stream",
     "text": [
      "\n",
      "attribute  1\n",
      "0.07527255560831925\n",
      "0.0037561773775118823\n",
      "0.007120868396071844\n",
      "\n",
      "attribute  2\n",
      "0.005838429962909286\n",
      "0.0024584986660830532\n",
      "0.29373617350838865\n",
      "\n",
      "attribute  3\n",
      "0.00470756661729721\n",
      "0.0010561477158920196\n",
      "0.0008311140445336207\n",
      "\n",
      "attribute  4\n",
      "0.02631169650768228\n",
      "0.015664247292643818\n",
      "0.002891817288654397\n",
      "\n",
      "attribute  5\n",
      "0.28703074971578435\n",
      "0.01727717693791797\n",
      "0.25591172461972755\n",
      "\n",
      "attribute  6\n",
      "0.0007578557158638421\n",
      "0.006247622236881467\n",
      "0.007077026074097326\n"
     ]
    }
   ],
   "source": [
    "for i in range(6):\n",
    "    print(\"\\nattribute \", i + 1)\n",
    "    print(averageGain(m.monk1, m.attributes[i]))\n",
    "    print(averageGain(m.monk2, m.attributes[i]))\n",
    "    print(averageGain(m.monk3, m.attributes[i]))\n",
    "    \n"
   ]
  },
  {
   "cell_type": "code",
   "execution_count": 4,
   "metadata": {},
   "outputs": [
    {
     "data": {
      "text/plain": [
       "4"
      ]
     },
     "execution_count": 4,
     "metadata": {},
     "output_type": "execute_result"
    }
   ],
   "source": [
    "max([1,2,3,4])\n"
   ]
  },
  {
   "cell_type": "code",
   "execution_count": 5,
   "metadata": {},
   "outputs": [],
   "source": [
    "def find_max_attr(dataset):\n",
    "    max_attr = [ averageGain(dataset, m.attributes[i]) for i in range(6) ]\n",
    "    return(max_attr.index(max(max_attr)))"
   ]
  },
  {
   "cell_type": "code",
   "execution_count": null,
   "metadata": {},
   "outputs": [
    {
     "name": "stdout",
     "output_type": "stream",
     "text": [
      "0 value 1\n",
      "3 value 2\n",
      "5 value 3\n",
      "0 value 4\n"
     ]
    }
   ],
   "source": [
    "a5_1 = d.select(m.monk1, m.attributes[4], 1)\n",
    "a5_2 = d.select(m.monk1, m.attributes[4], 2)\n",
    "a5_3 = d.select(m.monk1, m.attributes[4], 3)\n",
    "a5_4 = d.select(m.monk1, m.attributes[4], 4)\n",
    "\n",
    "print(find_max_attr(a5_1), 'value 1') # 1\n",
    "print(find_max_attr(a5_2), 'value 2') # 4\n",
    "print(find_max_attr(a5_3), 'value 3') # 6\n",
    "print(find_max_attr(a5_4), 'value 4') # 1\n",
    "\n",
    "from drawtree_qt5 import drawTree \n",
    "t=d.buildTree(m.monk1, m.attributes,3)\n",
    "\n",
    "drawTree(t)\n"
   ]
  },
  {
   "cell_type": "code",
   "execution_count": null,
   "metadata": {},
   "outputs": [],
   "source": []
  },
  {
   "cell_type": "code",
   "execution_count": 4,
   "metadata": {},
   "outputs": [
    {
     "name": "stdout",
     "output_type": "stream",
     "text": [
      "0.8287037037037037\n",
      "0.6921296296296297\n",
      "0.9444444444444444\n",
      "\n",
      "1.0\n",
      "1.0\n",
      "1.0\n"
     ]
    }
   ],
   "source": [
    "# build tree\n",
    "\n",
    "\n",
    "t1=d.buildTree(m.monk1, m.attributes)\n",
    "print(d.check(t1, m.monk1test))\n",
    "t2=d.buildTree(m.monk2, m.attributes);\n",
    "print(d.check(t2, m.monk2test))\n",
    "t3=d.buildTree(m.monk3, m.attributes);\n",
    "print(d.check(t3, m.monk3test))\n",
    "\n",
    "print(\"\")\n",
    "print(d.check(t1, m.monk1))\n",
    "print(d.check(t2, m.monk2))\n",
    "print(d.check(t3, m.monk3))\n"
   ]
  },
  {
   "cell_type": "code",
   "execution_count": null,
   "metadata": {},
   "outputs": [],
   "source": []
  },
  {
   "cell_type": "code",
   "execution_count": null,
   "metadata": {},
   "outputs": [],
   "source": []
  }
 ],
 "metadata": {
  "kernelspec": {
   "display_name": "Python 3",
   "language": "python",
   "name": "python3"
  },
  "language_info": {
   "codemirror_mode": {
    "name": "ipython",
    "version": 3
   },
   "file_extension": ".py",
   "mimetype": "text/x-python",
   "name": "python",
   "nbconvert_exporter": "python",
   "pygments_lexer": "ipython3",
   "version": "3.5.2"
  }
 },
 "nbformat": 4,
 "nbformat_minor": 2
}
