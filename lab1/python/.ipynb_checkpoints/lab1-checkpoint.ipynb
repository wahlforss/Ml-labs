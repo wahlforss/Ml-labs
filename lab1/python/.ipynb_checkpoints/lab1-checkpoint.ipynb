{
 "cells": [
  {
   "cell_type": "code",
   "execution_count": 16,
   "metadata": {},
   "outputs": [],
   "source": [
    "%matplotlib notebook\n",
    "import monkdata as m\n",
    "import numpy as np\n",
    "from dtree import entropy\n",
    "from dtree import averageGain\n",
    "import dtree as d\n",
    "\n",
    "\n",
    "import matplotlib.pyplot as plt\n",
    "import random"
   ]
  },
  {
   "cell_type": "code",
   "execution_count": 2,
   "metadata": {},
   "outputs": [
    {
     "name": "stdout",
     "output_type": "stream",
     "text": [
      "1.0 monk1\n",
      "0.957117428264771 monk2\n",
      "0.9998061328047111 monk3\n"
     ]
    }
   ],
   "source": [
    "print(entropy(m.monk1), 'monk1')\n",
    "print(entropy(m.monk2), 'monk2')\n",
    "print(entropy(m.monk3), 'monk3')"
   ]
  },
  {
   "cell_type": "code",
   "execution_count": 3,
   "metadata": {},
   "outputs": [
    {
     "name": "stdout",
     "output_type": "stream",
     "text": [
      "\n",
      "attribute  1\n",
      "0.07527255560831925\n",
      "0.0037561773775118823\n",
      "0.007120868396071844\n",
      "\n",
      "attribute  2\n",
      "0.005838429962909286\n",
      "0.0024584986660830532\n",
      "0.29373617350838865\n",
      "\n",
      "attribute  3\n",
      "0.00470756661729721\n",
      "0.0010561477158920196\n",
      "0.0008311140445336207\n",
      "\n",
      "attribute  4\n",
      "0.02631169650768228\n",
      "0.015664247292643818\n",
      "0.002891817288654397\n",
      "\n",
      "attribute  5\n",
      "0.28703074971578435\n",
      "0.01727717693791797\n",
      "0.25591172461972755\n",
      "\n",
      "attribute  6\n",
      "0.0007578557158638421\n",
      "0.006247622236881467\n",
      "0.007077026074097326\n"
     ]
    }
   ],
   "source": [
    "for i in range(6):\n",
    "    print(\"\\nattribute \", i + 1)\n",
    "    print(averageGain(m.monk1, m.attributes[i]))\n",
    "    print(averageGain(m.monk2, m.attributes[i]))\n",
    "    print(averageGain(m.monk3, m.attributes[i]))\n",
    "    \n"
   ]
  },
  {
   "cell_type": "code",
   "execution_count": 4,
   "metadata": {},
   "outputs": [
    {
     "data": {
      "text/plain": [
       "4"
      ]
     },
     "execution_count": 4,
     "metadata": {},
     "output_type": "execute_result"
    }
   ],
   "source": [
    "max([1,2,3,4])\n"
   ]
  },
  {
   "cell_type": "code",
   "execution_count": 5,
   "metadata": {},
   "outputs": [],
   "source": [
    "def find_max_attr(dataset):\n",
    "    max_attr = [ averageGain(dataset, m.attributes[i]) for i in range(6) ]\n",
    "    return(max_attr.index(max(max_attr)))"
   ]
  },
  {
   "cell_type": "code",
   "execution_count": 10,
   "metadata": {},
   "outputs": [
    {
     "name": "stdout",
     "output_type": "stream",
     "text": [
      "0 value 1\n",
      "3 value 2\n",
      "5 value 3\n",
      "0 value 4\n"
     ]
    },
    {
     "ename": "SystemExit",
     "evalue": "0",
     "output_type": "error",
     "traceback": [
      "An exception has occurred, use %tb to see the full traceback.\n",
      "\u001b[0;31mSystemExit\u001b[0m\u001b[0;31m:\u001b[0m 0\n"
     ]
    }
   ],
   "source": [
    "a5_1 = d.select(m.monk1, m.attributes[4], 1)\n",
    "a5_2 = d.select(m.monk1, m.attributes[4], 2)\n",
    "a5_3 = d.select(m.monk1, m.attributes[4], 3)\n",
    "a5_4 = d.select(m.monk1, m.attributes[4], 4)\n",
    "\n",
    "print(find_max_attr(a5_1), 'value 1') # 1\n",
    "print(find_max_attr(a5_2), 'value 2') # 4\n",
    "print(find_max_attr(a5_3), 'value 3') # 6\n",
    "print(find_max_attr(a5_4), 'value 4') # 1\n",
    "\n",
    "from drawtree_qt5 import drawTree \n",
    "t=d.buildTree(m.monk1, m.attributes,3)\n",
    "\n",
    "drawTree(t)\n"
   ]
  },
  {
   "cell_type": "code",
   "execution_count": null,
   "metadata": {},
   "outputs": [],
   "source": []
  },
  {
   "cell_type": "code",
   "execution_count": 6,
   "metadata": {},
   "outputs": [
    {
     "name": "stdout",
     "output_type": "stream",
     "text": [
      "0.8287037037037037\n",
      "0.6921296296296297\n",
      "0.9444444444444444\n",
      "\n",
      "1.0\n",
      "1.0\n",
      "1.0\n"
     ]
    }
   ],
   "source": [
    "# build tree\n",
    "\n",
    "\n",
    "t1=d.buildTree(m.monk1, m.attributes)\n",
    "print(d.check(t1, m.monk1test))\n",
    "t2=d.buildTree(m.monk2, m.attributes);\n",
    "print(d.check(t2, m.monk2test))\n",
    "t3=d.buildTree(m.monk3, m.attributes);\n",
    "print(d.check(t3, m.monk3test))\n",
    "\n",
    "print(\"\")\n",
    "print(d.check(t1, m.monk1))\n",
    "print(d.check(t2, m.monk2))\n",
    "print(d.check(t3, m.monk3))\n"
   ]
  },
  {
   "cell_type": "code",
   "execution_count": 7,
   "metadata": {},
   "outputs": [],
   "source": [
    "\n",
    "def partition(data, fraction):\n",
    "    ldata = list(data)\n",
    "    random.shuffle(ldata)\n",
    "    breakPoint = int(len(ldata) * fraction)\n",
    "    return ldata[:breakPoint], ldata[breakPoint:]\n"
   ]
  },
  {
   "cell_type": "code",
   "execution_count": 8,
   "metadata": {},
   "outputs": [],
   "source": [
    "\n",
    "def pruning(tree, validation):    \n",
    "    next_tree_accuracy = 1\n",
    "    current_tree_accuracy = d.check(tree, validation)\n",
    "    while (next_tree_accuracy > current_tree_accuracy):\n",
    "        current_tree_accuracy = d.check(tree, validation)\n",
    "        pruned_trees = d.allPruned(tree)\n",
    "        accuracy_pruned_trees = [d.check(t, validation) for t in pruned_trees]\n",
    "        index_of_max_tree = accuracy_pruned_trees.index(max(accuracy_pruned_trees))\n",
    "        next_tree_accuracy = accuracy_pruned_trees[index_of_max_tree]\n",
    "        if (next_tree_accuracy > current_tree_accuracy):            \n",
    "            tree = pruned_trees[index_of_max_tree]  \n",
    "    return tree\n",
    "        "
   ]
  },
  {
   "cell_type": "code",
   "execution_count": null,
   "metadata": {},
   "outputs": [],
   "source": []
  },
  {
   "cell_type": "code",
   "execution_count": null,
   "metadata": {},
   "outputs": [],
   "source": [
    "fractions = [0.3, 0.4, 0.5, 0.6, 0.7, 0.8]\n",
    "results_aggre_monk1 = []\n",
    "results_aggre_monk3 = []\n",
    "for _ in range(1000):\n",
    "    results_monk1 = []\n",
    "    results_monk3 = []\n",
    "    for f in fractions:\n",
    "        monk1train, monk1val = partition(m.monk1, f)\n",
    "        monk3train, monk3val = partition(m.monk3, f)\n",
    "        t1_prune =d.buildTree(monk1train, m.attributes)\n",
    "        t3_prune =d.buildTree(monk3train, m.attributes)\n",
    "        pruned_tree1 = pruning(t1_prune, monk1val)\n",
    "        pruned_tree3 = pruning(t3_prune, monk3val)\n",
    "        results_monk1.append(d.check(pruned_tree1, m.monk1test))\n",
    "        results_monk3.append(d.check(pruned_tree3, m.monk3test))\n",
    "    results_aggre_monk1.append(results_monk1)\n",
    "    results_aggre_monk3.append(results_monk3)\n",
    "#print(results_aggre_monk1)\n",
    "#print(results_aggre_monk3)\n",
    "\n",
    "print(\" BEFORE PRUNING \")\n",
    "t1=d.buildTree(m.monk1, m.attributes)\n",
    "print(d.check(t1, m.monk1test))\n",
    "t3=d.buildTree(m.monk3, m.attributes);\n",
    "print(d.check(t3, m.monk3test))\n"
   ]
  },
  {
   "cell_type": "code",
   "execution_count": null,
   "metadata": {},
   "outputs": [],
   "source": [
    "import statistics\n",
    "zip_results1 = zip(*results_aggre_monk1)\n",
    "zip_results3 = zip(*results_aggre_monk3)\n",
    "zip_1 = list(zip_results1)\n",
    "zip_3 = list(zip_results3)\n",
    "\n",
    "m1_mean = np.array([statistics.mean(res) for res in zip_1])\n",
    "m3_mean = np.array([statistics.mean(res) for res in zip_3])\n",
    "m1_stdev = np.array([statistics.stdev(res) for res in zip_1])\n",
    "m3_stdev = np.array([statistics.stdev(res) for res in zip_3])\n",
    "print(m1_stdev)\n",
    "print(m3_stdev)\n",
    "upperbound_1 = m1_mean + 2*m1_stdev\n",
    "lowerbound_1 = m1_mean - 2*m1_stdev\n",
    "upperbound_3 = m3_mean + 2*m3_stdev\n",
    "lowerbound_3 = m3_mean - 2*m3_stdev\n",
    "\n",
    "#print(statistics.stdev())\n",
    "\n",
    "\n",
    "\n",
    "f, (ax1, ax2) = plt.subplots(1, 2, sharey=True)\n",
    "\n",
    "for m3acc in results_aggre_monk3: \n",
    "    ax2.plot(fractions, m3acc, 'or')\n",
    "for m1acc in results_aggre_monk1: \n",
    "    ax1.plot(fractions, m1acc, 'or')\n",
    "\n",
    "ax1.set_title('m1')\n",
    "ax2.set_title('m3')\n",
    "ax1.plot(fractions, [d.check(t1, m.monk1test) for _ in fractions], '*b')\n",
    "ax2.plot(fractions, [d.check(t3, m.monk3test) for _ in fractions], '*b')\n",
    "ax1.plot(fractions, upperbound_1, '*g')\n",
    "ax1.plot(fractions, lowerbound_1, '*g')\n",
    "ax2.plot(fractions, upperbound_3, '*y')\n",
    "ax2.plot(fractions, lowerbound_3, '*y')\n",
    "\n",
    "\n",
    "plt.show()\n"
   ]
  },
  {
   "cell_type": "code",
   "execution_count": 26,
   "metadata": {},
   "outputs": [],
   "source": [
    "\n"
   ]
  },
  {
   "cell_type": "code",
   "execution_count": null,
   "metadata": {},
   "outputs": [],
   "source": []
  }
 ],
 "metadata": {
  "kernelspec": {
   "display_name": "Python 3",
   "language": "python",
   "name": "python3"
  },
  "language_info": {
   "codemirror_mode": {
    "name": "ipython",
    "version": 3
   },
   "file_extension": ".py",
   "mimetype": "text/x-python",
   "name": "python",
   "nbconvert_exporter": "python",
   "pygments_lexer": "ipython3",
   "version": "3.5.2"
  }
 },
 "nbformat": 4,
 "nbformat_minor": 2
}
