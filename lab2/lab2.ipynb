{
 "cells": [
  {
   "cell_type": "code",
   "execution_count": 3,
   "metadata": {},
   "outputs": [],
   "source": [
    "import numpy, random, math\n",
    "from scipy . optimize import minimize\n",
    "import matplotlib . pyplot as plt"
   ]
  },
  {
   "cell_type": "code",
   "execution_count": 14,
   "metadata": {},
   "outputs": [],
   "source": [
    "def kernel_linear(x,y):\n",
    "    return numpy.dot(x,y)"
   ]
  },
  {
   "cell_type": "code",
   "execution_count": 15,
   "metadata": {},
   "outputs": [],
   "source": [
    "def kernel_polynomial(x,y, p):\n",
    "    return (numpy.dot(x,y) + 1) ** p "
   ]
  },
  {
   "cell_type": "code",
   "execution_count": 16,
   "metadata": {},
   "outputs": [],
   "source": [
    "def kernel_radial(x,y, sigma):\n",
    "    return numpy.exp((-numpy.linalg.norm(x-y) ** 2) / (2*(sigma ** 2)))"
   ]
  },
  {
   "cell_type": "code",
   "execution_count": 37,
   "metadata": {},
   "outputs": [
    {
     "data": {
      "text/plain": [
       "array([[1., 1.],\n",
       "       [1., 1.],\n",
       "       [1., 1.],\n",
       "       [1., 1.],\n",
       "       [1., 1.],\n",
       "       [1., 1.],\n",
       "       [1., 1.],\n",
       "       [1., 1.],\n",
       "       [1., 1.],\n",
       "       [1., 1.]])"
      ]
     },
     "execution_count": 37,
     "metadata": {},
     "output_type": "execute_result"
    }
   ],
   "source": [
    "x = numpy.array([[1,2],[3,2],[3,4]])\n",
    "y = numpy.array([4,5,6])\n",
    "x2 = numpy.ones((10, 2))\n",
    "\n",
    "#numpy.dot(x[:,None],y[None])\n",
    "#numpy.einsum('i,j->ij',x,x)\n",
    "\n",
    "\n"
   ]
  },
  {
   "cell_type": "markdown",
   "metadata": {},
   "source": [
    "he\n"
   ]
  },
  {
   "cell_type": "code",
   "execution_count": 8,
   "metadata": {},
   "outputs": [
    {
     "data": {
      "application/javascript": [
       "Jupyter.keyboard_manager.edit_shortcuts.add_shortcut('cmd-shift-d', {\n",
       "    help: 'Duplicate current line',\n",
       "    help_index: 'zz',\n",
       "    handler: function (env) {\n",
       "        var cm = env.notebook.get_selected_cell().code_mirror;\n",
       "        // get a position of a current cursor in a current cell\n",
       "        var current_cursor = cm.doc.getCursor();\n",
       "\n",
       "        // read a content from a line where is the current cursor\n",
       "        var line_content = cm.doc.getLine(current_cursor.line);\n",
       "        cm.execCommand('goLineEnd');\n",
       "        cm.execCommand('newlineAndIndent');\n",
       "        cm.execCommand('indentLess');\n",
       "        cm.doc.replaceSelection(line_content);\n",
       "        cm.doc.setCursor(current_cursor.line + 1, current_cursor.ch);\n",
       "        return false;\n",
       "    }\n",
       "}\n",
       ");\n"
      ],
      "text/plain": [
       "<IPython.core.display.Javascript object>"
      ]
     },
     "metadata": {},
     "output_type": "display_data"
    }
   ],
   "source": [
    "%%javascript\n",
    "Jupyter.keyboard_manager.edit_shortcuts.add_shortcut('cmd-shift-d', {\n",
    "    help: 'Duplicate current line',\n",
    "    help_index: 'zz',\n",
    "    handler: function (env) {\n",
    "        var cm = env.notebook.get_selected_cell().code_mirror;\n",
    "        // get a position of a current cursor in a current cell\n",
    "        var current_cursor = cm.doc.getCursor();\n",
    "\n",
    "        // read a content from a line where is the current cursor\n",
    "        var line_content = cm.doc.getLine(current_cursor.line);\n",
    "        cm.execCommand('goLineEnd');\n",
    "        cm.execCommand('newlineAndIndent');\n",
    "        cm.execCommand('indentLess');\n",
    "        cm.doc.replaceSelection(line_content);\n",
    "        cm.doc.setCursor(current_cursor.line + 1, current_cursor.ch);\n",
    "        return false;\n",
    "    }\n",
    "}\n",
    ");"
   ]
  },
  {
   "cell_type": "code",
   "execution_count": null,
   "metadata": {},
   "outputs": [],
   "source": [
    "hej\n",
    "hej"
   ]
  }
 ],
 "metadata": {
  "kernelspec": {
   "display_name": "Python 3",
   "language": "python",
   "name": "python3"
  },
  "language_info": {
   "codemirror_mode": {
    "name": "ipython",
    "version": 3
   },
   "file_extension": ".py",
   "mimetype": "text/x-python",
   "name": "python",
   "nbconvert_exporter": "python",
   "pygments_lexer": "ipython3",
   "version": "3.7.0"
  }
 },
 "nbformat": 4,
 "nbformat_minor": 2
}
