{
 "cells": [
  {
   "cell_type": "code",
   "execution_count": 1,
   "metadata": {},
   "outputs": [],
   "source": [
    "import numpy, random, math\n",
    "from scipy.optimize import minimize\n",
    "import matplotlib . pyplot as plt"
   ]
  },
  {
   "cell_type": "code",
   "execution_count": 2,
   "metadata": {},
   "outputs": [],
   "source": [
    "def kernel_linear(x,y):\n",
    "    return numpy.dot(x,y)"
   ]
  },
  {
   "cell_type": "code",
   "execution_count": 3,
   "metadata": {},
   "outputs": [],
   "source": [
    "def kernel_polynomial(p):\n",
    "    return lambda x, y:(numpy.dot(x,y) + 1) ** p "
   ]
  },
  {
   "cell_type": "code",
   "execution_count": 4,
   "metadata": {},
   "outputs": [],
   "source": [
    "def kernel_radial(x,y, sigma):\n",
    "    return lambda x, y: numpy.exp((-numpy.linalg.norm(x-y) ** 2) / (2*(sigma ** 2)))"
   ]
  },
  {
   "cell_type": "code",
   "execution_count": 5,
   "metadata": {},
   "outputs": [],
   "source": [
    "x = numpy.array([[1,2],[3,2],[3,4]])\n",
    "y = numpy.array([4,5,6])\n",
    "x2 = numpy.ones((10, 2))\n",
    "\n",
    "#numpy.dot(x[:,None],y[None])\n",
    "#numpy.einsum('i,j->ij',x,x)\n",
    "\n",
    "\n"
   ]
  },
  {
   "cell_type": "markdown",
   "metadata": {},
   "source": [
    "he\n"
   ]
  },
  {
   "cell_type": "code",
   "execution_count": 6,
   "metadata": {},
   "outputs": [
    {
     "data": {
      "application/javascript": [
       "Jupyter.keyboard_manager.edit_shortcuts.add_shortcut('cmd-shift-d', {\n",
       "    help: 'Duplicate current line',\n",
       "    help_index: 'zz',\n",
       "    handler: function (env) {\n",
       "        var cm = env.notebook.get_selected_cell().code_mirror;\n",
       "        // get a position of a current cursor in a current cell\n",
       "        var current_cursor = cm.doc.getCursor();\n",
       "\n",
       "        // read a content from a line where is the current cursor\n",
       "        var line_content = cm.doc.getLine(current_cursor.line);\n",
       "        cm.execCommand('goLineEnd');\n",
       "        cm.execCommand('newlineAndIndent');\n",
       "        cm.execCommand('indentLess');\n",
       "        cm.doc.replaceSelection(line_content);\n",
       "        cm.doc.setCursor(current_cursor.line + 1, current_cursor.ch);\n",
       "        return false;\n",
       "    }\n",
       "}\n",
       ");\n"
      ],
      "text/plain": [
       "<IPython.core.display.Javascript object>"
      ]
     },
     "metadata": {},
     "output_type": "display_data"
    }
   ],
   "source": [
    "%%javascript\n",
    "Jupyter.keyboard_manager.edit_shortcuts.add_shortcut('cmd-shift-d', {\n",
    "    help: 'Duplicate current line',\n",
    "    help_index: 'zz',\n",
    "    handler: function (env) {\n",
    "        var cm = env.notebook.get_selected_cell().code_mirror;\n",
    "        // get a position of a current cursor in a current cell\n",
    "        var current_cursor = cm.doc.getCursor();\n",
    "\n",
    "        // read a content from a line where is the current cursor\n",
    "        var line_content = cm.doc.getLine(current_cursor.line);\n",
    "        cm.execCommand('goLineEnd');\n",
    "        cm.execCommand('newlineAndIndent');\n",
    "        cm.execCommand('indentLess');\n",
    "        cm.doc.replaceSelection(line_content);\n",
    "        cm.doc.setCursor(current_cursor.line + 1, current_cursor.ch);\n",
    "        return false;\n",
    "    }\n",
    "}\n",
    ");"
   ]
  },
  {
   "cell_type": "code",
   "execution_count": 7,
   "metadata": {},
   "outputs": [
    {
     "data": {
      "text/plain": [
       "array([[ 2, -3],\n",
       "       [-3,  5]])"
      ]
     },
     "execution_count": 7,
     "metadata": {},
     "output_type": "execute_result"
    }
   ],
   "source": [
    "def generateP(t, x, kernel):\n",
    "    matrix = []\n",
    "    i = 0\n",
    "    for i in range(len(x)):\n",
    "        row = []\n",
    "        for j in range(len(x)):\n",
    "            row.append(t[i] * t[j] * kernel(x[i], x[j]))\n",
    "        matrix.append(row)\n",
    "    #print(matrix)\n",
    "    return numpy.array(matrix)\n",
    "    \n",
    "    \n",
    "    \n",
    "generateP(numpy.array([1, -1]), numpy.array([[1, 1], [1, 2]]), kernel_linear)"
   ]
  },
  {
   "cell_type": "code",
   "execution_count": 8,
   "metadata": {},
   "outputs": [],
   "source": [
    "alpha = numpy.ones((2, 1))\n",
    "\n",
    "def objective(t, x, kernel):\n",
    "    P = generateP(t, x, kernel)\n",
    "    return lambda alpha : 0.5 * numpy.sum(numpy.multiply(numpy.dot(alpha[:, None], alpha.T[None]), P)) - numpy.sum(alpha)\n",
    "#print(objective(t, x))"
   ]
  },
  {
   "cell_type": "code",
   "execution_count": 9,
   "metadata": {},
   "outputs": [],
   "source": [
    "\n",
    "def zerofun(t):\n",
    "    return lambda alpha : numpy.dot(t,alpha)"
   ]
  },
  {
   "cell_type": "markdown",
   "metadata": {},
   "source": [
    "Test data!"
   ]
  },
  {
   "cell_type": "code",
   "execution_count": 10,
   "metadata": {},
   "outputs": [
    {
     "name": "stdout",
     "output_type": "stream",
     "text": [
      "(80, 2)\n",
      "(80,)\n"
     ]
    }
   ],
   "source": [
    "numpy.random.seed(50)\n",
    "classA = numpy.concatenate((numpy.random.randn(20, 2) * 0.2 + [2, -1.5],\n",
    "                        numpy.random.randn(20, 2) * 0.2 + [0, 0]))\n",
    "#classA = numpy.array([[0, 0], [1 ,0]])\n",
    "classB = numpy.random.randn(40, 2) * 0.02 + [0.0 , 0.2]\n",
    "#classB = numpy.array([[4, 0], [3 ,0]])\n",
    "inputs = numpy.concatenate(( classA , classB))\n",
    "targets = numpy.concatenate((numpy.ones(classA.shape[0]), -numpy.ones(classB.shape[0])))\n",
    "\n",
    "N = inputs.shape[0] # Number of rows (samples)\n",
    "permute=list(range(N))\n",
    "random.shuffle(permute)\n",
    "inputs = inputs[permute,:]\n",
    "targets = targets[permute]\n",
    "\n",
    "print(inputs.shape)\n",
    "print(targets.shape)\n"
   ]
  },
  {
   "cell_type": "markdown",
   "metadata": {},
   "source": [
    "Plot time!"
   ]
  },
  {
   "cell_type": "code",
   "execution_count": 11,
   "metadata": {},
   "outputs": [
    {
     "data": {
      "image/png": "[encoded data removed]",
      "text/plain": [
       "<Figure size 432x288 with 1 Axes>"
      ]
     },
     "metadata": {
      "needs_background": "light"
     },
     "output_type": "display_data"
    }
   ],
   "source": [
    "plt.plot([p[0] for p in classA],\n",
    "        [p[1] for p in classA],\n",
    "        'b.')\n",
    "\n",
    "plt.plot([p[0] for p in classB],\n",
    "        [p[1] for p in classB],\n",
    "        'r.')\n",
    "\n",
    "plt.axis('equal')\n",
    "plt.savefig('svmplot.pdf')\n",
    "plt.show()"
   ]
  },
  {
   "cell_type": "markdown",
   "metadata": {},
   "source": [
    "Create the model"
   ]
  },
  {
   "cell_type": "code",
   "execution_count": 12,
   "metadata": {},
   "outputs": [
    {
     "name": "stdout",
     "output_type": "stream",
     "text": [
      "True\n",
      "     fun: -80.78943144963897\n",
      "     jac: array([ 3.15225697,  3.42434692, -1.37843609, -0.82752228,  2.75250626,\n",
      "       -1.51065826, -1.44733334, -0.87179947,  3.76877499,  4.65611839,\n",
      "       -1.74008179,  3.64401245,  3.38587379,  3.02107811, -1.11484146,\n",
      "       -1.01701069,  2.42190552,  2.88552284,  3.18670273, -1.61014843,\n",
      "       -1.23199654,  3.1135416 , -1.67352962, -1.17627239,  3.84861469,\n",
      "        3.67412567, -1.31850243,  4.04349709, -1.17833042,  3.29559898,\n",
      "        2.7105484 ,  3.01303864,  3.4406395 ,  3.85768223, -0.94868851,\n",
      "       -1.1481657 , -0.369874  ,  2.34081745,  3.22428703,  4.25128269,\n",
      "       -1.12741375, -1.59123993,  3.66101933,  3.44075966, -1.11689568,\n",
      "       -0.96391582,  2.91631508,  3.13597584, -1.23049736, -1.32625771,\n",
      "       -1.52410316, -0.8609724 , -0.86456585, -0.33349037, -1.05476761,\n",
      "       -0.51135349,  3.41404152, -0.3949585 ,  3.87840748,  3.54246807,\n",
      "        3.4611187 , -0.35198212,  2.92077541, -0.60956669,  2.93987465,\n",
      "       -0.90836525,  3.61287594,  3.6376791 ,  2.29309559, -1.15583515,\n",
      "       -1.04212952,  3.49595165,  3.21425152, -1.47683811, -0.78313828,\n",
      "        3.25463867,  1.73986816, -0.42099571, -1.29672241, -0.92024136])\n",
      " message: 'Optimization terminated successfully.'\n",
      "    nfev: 3200\n",
      "     nit: 39\n",
      "    njev: 39\n",
      "  status: 0\n",
      " success: True\n",
      "       x: array([2.00189858e-14, 0.00000000e+00, 0.00000000e+00, 0.00000000e+00,\n",
      "       0.00000000e+00, 0.00000000e+00, 0.00000000e+00, 0.00000000e+00,\n",
      "       0.00000000e+00, 0.00000000e+00, 8.07901981e+01, 0.00000000e+00,\n",
      "       0.00000000e+00, 3.74052682e-14, 1.25709197e-14, 0.00000000e+00,\n",
      "       0.00000000e+00, 2.60468928e-14, 9.72860068e-15, 0.00000000e+00,\n",
      "       1.41437328e-14, 2.99819268e-14, 0.00000000e+00, 1.49989809e-14,\n",
      "       0.00000000e+00, 0.00000000e+00, 0.00000000e+00, 0.00000000e+00,\n",
      "       2.02020259e-16, 0.00000000e+00, 0.00000000e+00, 3.59903669e-14,\n",
      "       0.00000000e+00, 0.00000000e+00, 0.00000000e+00, 1.69782235e-14,\n",
      "       0.00000000e+00, 0.00000000e+00, 1.73089719e-15, 0.00000000e+00,\n",
      "       1.52618477e-14, 0.00000000e+00, 0.00000000e+00, 0.00000000e+00,\n",
      "       1.66845689e-14, 0.00000000e+00, 1.62897892e-14, 1.79875885e-14,\n",
      "       9.85018826e-15, 0.00000000e+00, 0.00000000e+00, 0.00000000e+00,\n",
      "       0.00000000e+00, 0.00000000e+00, 4.38642760e-15, 0.00000000e+00,\n",
      "       0.00000000e+00, 0.00000000e+00, 0.00000000e+00, 0.00000000e+00,\n",
      "       0.00000000e+00, 0.00000000e+00, 3.97944922e-14, 0.00000000e+00,\n",
      "       2.85708624e-14, 0.00000000e+00, 0.00000000e+00, 0.00000000e+00,\n",
      "       0.00000000e+00, 1.63465405e-14, 0.00000000e+00, 0.00000000e+00,\n",
      "       4.03493488e-17, 0.00000000e+00, 0.00000000e+00, 0.00000000e+00,\n",
      "       8.07901981e+01, 0.00000000e+00, 0.00000000e+00, 0.00000000e+00])\n"
     ]
    }
   ],
   "source": [
    "\n",
    "t = targets\n",
    "x = inputs\n",
    "start = numpy.zeros(N)\n",
    "c = 100\n",
    "XC={'type':'eq', 'fun':zerofun(t)}\n",
    "B=[(0, c) for b in range(N)]\n",
    "\n",
    "kernel = kernel_polynomial(3)\n",
    "\n",
    "ret = minimize( objective(t, x, kernel) , start, bounds=B, constraints=XC )\n",
    "alpha = ret['x']\n",
    "non_zero = [i for i in range(len(alpha)) if abs(alpha[i]) > 10 ** -5]\n",
    "def bias(s, target_value, kernel):\n",
    "    sum_thing = [alpha[i] * t[i] * kernel(s, x[i]) for i in non_zero]\n",
    "    return numpy.sum(sum_thing) - target_value\n",
    "\n",
    "\n",
    "def indicator(x2,y2, kernel):     \n",
    "    sum_thing = [alpha[i]*t[i]*kernel([x2,y2], x[i])  for i in non_zero] \n",
    "    b = bias(x[non_zero[0]], t[non_zero[0]], kernel)\n",
    "    return numpy.sum(sum_thing) - b\n",
    "\n",
    "print(ret['success'])\n",
    "#print(ret)\n"
   ]
  },
  {
   "cell_type": "code",
   "execution_count": 13,
   "metadata": {},
   "outputs": [
    {
     "name": "stdout",
     "output_type": "stream",
     "text": [
      "[[  48.35054421   48.13774827   47.925517   ...   38.94767386\n",
      "    38.76062597   38.57410832]\n",
      " [  48.11814202   47.90321278   47.68885163 ...   38.61869406\n",
      "    38.42967318   38.24118597]\n",
      " [  47.7947199    47.57766514   47.36118189 ...   38.19905997\n",
      "    38.00807389   37.81762489]\n",
      " ...\n",
      " [-124.50171426 -124.80636532 -125.11029139 ... -138.04847065\n",
      "  -138.31983868 -138.59051614]\n",
      " [-133.2478406  -133.55425931 -133.85994963 ... -146.8739893\n",
      "  -147.14696467 -147.41924605]\n",
      " [-142.26915154 -142.57733013 -142.8847769  ... -155.97432692\n",
      "  -156.24890183 -156.52277936]]\n"
     ]
    },
    {
     "data": {
      "text/plain": [
       "<matplotlib.contour.QuadContourSet at 0x1280cec50>"
      ]
     },
     "execution_count": 13,
     "metadata": {},
     "output_type": "execute_result"
    },
    {
     "data": {
      "image/png": "[encoded data removed]",
      "text/plain": [
       "<Figure size 432x288 with 1 Axes>"
      ]
     },
     "metadata": {
      "needs_background": "light"
     },
     "output_type": "display_data"
    }
   ],
   "source": [
    "xgrid=numpy.linspace(-5, 5)\n",
    "ygrid=numpy.linspace(-4, 4)\n",
    "grid=numpy.array([[indicator(x, y, kernel) for x in xgrid ] for y in ygrid])\n",
    "print(grid)\n",
    "plt.plot([p[0] for p in classB],\n",
    "        [p[1] for p in classB],\n",
    "        'r.')\n",
    "plt.plot([p[0] for p in classA],\n",
    "        [p[1] for p in classA],\n",
    "        'b.')\n",
    "\n",
    "plt.contour(xgrid , ygrid, grid, (-1.0, 0.0, 1.0),\n",
    "            colors=('red', 'black', 'blue'), \n",
    "            linewidths=(1, 3, 1))"
   ]
  },
  {
   "cell_type": "code",
   "execution_count": null,
   "metadata": {},
   "outputs": [],
   "source": []
  },
  {
   "cell_type": "code",
   "execution_count": null,
   "metadata": {},
   "outputs": [],
   "source": []
  }
 ],
 "metadata": {
  "kernelspec": {
   "display_name": "Python 3",
   "language": "python",
   "name": "python3"
  },
  "language_info": {
   "codemirror_mode": {
    "name": "ipython",
    "version": 3
   },
   "file_extension": ".py",
   "mimetype": "text/x-python",
   "name": "python",
   "nbconvert_exporter": "python",
   "pygments_lexer": "ipython3",
   "version": "3.7.0"
  }
 },
 "nbformat": 4,
 "nbformat_minor": 2
}
